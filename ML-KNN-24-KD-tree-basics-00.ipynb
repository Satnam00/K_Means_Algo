{
 "cells": [
  {
   "cell_type": "code",
   "execution_count": 1,
   "metadata": {},
   "outputs": [
    {
     "data": {
      "text/plain": [
       "'0.20.2'"
      ]
     },
     "execution_count": 1,
     "metadata": {},
     "output_type": "execute_result"
    }
   ],
   "source": [
    "import sklearn\n",
    "sklearn.__version__"
   ]
  },
  {
   "cell_type": "code",
   "execution_count": 2,
   "metadata": {
    "collapsed": true
   },
   "outputs": [],
   "source": [
    "from sklearn.neighbors import KDTree\n",
    "import numpy as np\n",
    "import matplotlib\n",
    "import matplotlib.pyplot as plt\n",
    "%matplotlib inline \n",
    "\n",
    "import seaborn as sns\n",
    "sns.set(style=\"white\", color_codes=True) "
   ]
  },
  {
   "cell_type": "code",
   "execution_count": 3,
   "metadata": {
    "collapsed": true
   },
   "outputs": [],
   "source": [
    "X = np.array([ [-1, -1], \n",
    "               [-2, -1], \n",
    "               [-3, -2], \n",
    "               [ 1,  1], \n",
    "               [ 2,  1], \n",
    "               [ 3,  2]]\n",
    "            )\n",
    "     "
   ]
  },
  {
   "cell_type": "code",
   "execution_count": 4,
   "metadata": {
    "collapsed": true
   },
   "outputs": [],
   "source": [
    "# get columns  \n",
    "X1, X2 = zip(*X)"
   ]
  },
  {
   "cell_type": "code",
   "execution_count": 5,
   "metadata": {},
   "outputs": [
    {
     "data": {
      "image/png": "[encoded data removed]",
      "text/plain": [
       "<matplotlib.figure.Figure at 0x1d50c820320>"
      ]
     },
     "metadata": {},
     "output_type": "display_data"
    }
   ],
   "source": [
    "plt.figure(figsize=(9,4))\n",
    "plt.grid()\n",
    "plt.axis([-8, 8, -8, 8])\n",
    "plt.axhline(y=0, color='k')\n",
    "plt.axvline(x=0, color='k')\n",
    "\n",
    "plt.scatter(X1, X2, color='c')\n",
    "#plt.annotate('', xy=(X1, X2), xytext=(6, 7), arrowprops=dict(facecolor='black', shrink=0.05));\n",
    "\n",
    "# test point\n",
    "X_test = [[1, 3]]\n",
    "X_test1, X_test2 = zip(*X_test)\n",
    "\n",
    "plt.scatter(X_test1, X_test2, color='r')\n",
    "plt.annotate('Test point', xy=(1, 3), xytext=(2, 5), arrowprops=dict(facecolor='black', shrink=0.05));"
   ]
  },
  {
   "cell_type": "code",
   "execution_count": 6,
   "metadata": {},
   "outputs": [
    {
     "name": "stdout",
     "output_type": "stream",
     "text": [
      "(1, 3, 5)\n",
      "(2, 4, 6)\n"
     ]
    }
   ],
   "source": [
    "x1 = [[1,2], [3,4], [5,6]]\n",
    "\n",
    "# get columns    \n",
    "a, b = zip(*x1)   # zip(*foo())\n",
    "\n",
    "# a, b = map(list, zip(*x))  # if you prefer lists over tuples\n",
    "print(a)\n",
    "# (1, 3, 5)\n",
    "print(b)"
   ]
  },
  {
   "cell_type": "markdown",
   "metadata": {},
   "source": [
    "__Parameters:\t__\n",
    "- __X__ : array-like, shape = [n_samples, n_features]\n",
    "n_samples is the number of points in the data set, and n_features is the dimension of the parameter space.\n",
    "\n",
    "- __leaf_size__ : positive integer (default = 40)\n",
    "Number of points at which to switch to brute-force. \n",
    "Changing leaf_size will not affect the results of a query, but can significantly impact the speed of a query and the memory required to store the constructed tree. \n",
    "\n",
    "- __metric__ : string or DistanceMetric object\n",
    "the distance metric to use for the tree. Default=’minkowski’ with p=2 (that is, a euclidean metric). "
   ]
  },
  {
   "cell_type": "code",
   "execution_count": 7,
   "metadata": {
    "collapsed": true
   },
   "outputs": [],
   "source": [
    "# instatiate the KDTree\n",
    "kdt = KDTree(X, leaf_size=30, metric='euclidean')\n"
   ]
  },
  {
   "cell_type": "markdown",
   "metadata": {},
   "source": [
    "__Parameters:\t__\n",
    "- X : An array of points to query\n",
    "\n",
    "- k : integer (default = 1)\n",
    "The number of nearest neighbors to return\n",
    "\n",
    "- return_distance : boolean (default = True)\n",
    "if True, return a tuple (d, i) of distances and indices if False, return array i\n",
    "\n",
    "- sort_results : boolean (default = True)\n",
    "if True, then distances and indices of each point are sorted on return, so that the first column contains the closest points. Otherwise, neighbors are returned in an arbitrary order.\n",
    "\n",
    "__ returns __\n",
    "- i     : if return_distance == False\n",
    "- (d,i) : if return_distance == True\n",
    "\n",
    "- d : array of doubles - shape: x.shape[:-1] + (k,)\n",
    "each entry gives the list of distances to the neighbors of the corresponding point\n",
    "\n",
    "- i : array of integers - shape: x.shape[:-1] + (k,)\n",
    "each entry gives the list of indices of neighbors of the corresponding point"
   ]
  },
  {
   "cell_type": "code",
   "execution_count": 8,
   "metadata": {},
   "outputs": [
    {
     "data": {
      "text/plain": [
       "(array([[2.        , 2.23606798]]), array([[3, 4]], dtype=int64))"
      ]
     },
     "execution_count": 8,
     "metadata": {},
     "output_type": "execute_result"
    }
   ],
   "source": [
    " kdt.query(X_test, k=2, return_distance = True) "
   ]
  },
  {
   "cell_type": "markdown",
   "metadata": {
    "collapsed": true
   },
   "source": [
    "## Example 2"
   ]
  },
  {
   "cell_type": "code",
   "execution_count": 17,
   "metadata": {
    "collapsed": true
   },
   "outputs": [],
   "source": [
    "import pickle"
   ]
  },
  {
   "cell_type": "code",
   "execution_count": 7,
   "metadata": {
    "collapsed": true
   },
   "outputs": [],
   "source": [
    "np.random.seed(0)"
   ]
  },
  {
   "cell_type": "code",
   "execution_count": 11,
   "metadata": {},
   "outputs": [
    {
     "data": {
      "text/plain": [
       "array([[0.31856895, 0.66741038, 0.13179786],\n",
       "       [0.7163272 , 0.28940609, 0.18319136],\n",
       "       [0.58651293, 0.02010755, 0.82894003],\n",
       "       [0.00469548, 0.67781654, 0.27000797],\n",
       "       [0.73519402, 0.96218855, 0.24875314],\n",
       "       [0.57615733, 0.59204193, 0.57225191],\n",
       "       [0.22308163, 0.95274901, 0.44712538],\n",
       "       [0.84640867, 0.69947928, 0.29743695],\n",
       "       [0.81379782, 0.39650574, 0.8811032 ],\n",
       "       [0.58127287, 0.88173536, 0.69253159]])"
      ]
     },
     "execution_count": 11,
     "metadata": {},
     "output_type": "execute_result"
    }
   ],
   "source": [
    "X = np.random.random((10, 3))  # 10 points in 3 dimensions\n",
    "X"
   ]
  },
  {
   "cell_type": "code",
   "execution_count": 18,
   "metadata": {
    "collapsed": true
   },
   "outputs": [],
   "source": [
    "tree = KDTree(X, leaf_size=2)\n",
    "s = pickle.dumps(tree) "
   ]
  },
  {
   "cell_type": "markdown",
   "metadata": {},
   "source": [
    "- some time later ...."
   ]
  },
  {
   "cell_type": "code",
   "execution_count": 19,
   "metadata": {
    "collapsed": true
   },
   "outputs": [],
   "source": [
    "tree_copy = pickle.loads(s)   "
   ]
  },
  {
   "cell_type": "code",
   "execution_count": 20,
   "metadata": {
    "collapsed": true
   },
   "outputs": [],
   "source": [
    "dist, ind = tree_copy.query(X[:1], k=3)  "
   ]
  },
  {
   "cell_type": "code",
   "execution_count": 21,
   "metadata": {},
   "outputs": [
    {
     "name": "stdout",
     "output_type": "stream",
     "text": [
      "[[0 3 6]]\n"
     ]
    }
   ],
   "source": [
    "print(ind)  # indices of 3 closest neighbors"
   ]
  },
  {
   "cell_type": "code",
   "execution_count": 22,
   "metadata": {},
   "outputs": [
    {
     "name": "stdout",
     "output_type": "stream",
     "text": [
      "[[0.         0.34311351 0.4358525 ]]\n"
     ]
    }
   ],
   "source": [
    "print(dist)  # distances to 3 closest neighbors"
   ]
  },
  {
   "cell_type": "markdown",
   "metadata": {
    "collapsed": true
   },
   "source": [
    "## Example 3\n",
    "\n",
    "__scipy.spatial.KDTree__\n",
    "\n",
    "kd-tree for quick nearest-neighbor lookup\n",
    "\n",
    "This class provides an index into a set of k-dimensional points which can be used to rapidly look up the nearest neighbors of any point.\n",
    "\n",
    "__Parameters__:\n",
    "- data : (N,K) array_like, The data points to be indexed. This array is not copied, and so modifying this data will result in bogus results.\n",
    "\n",
    "- leafsize : int, optional, The number of points at which the algorithm switches over to brute-force. Has to be positive.\n"
   ]
  },
  {
   "cell_type": "code",
   "execution_count": 46,
   "metadata": {
    "collapsed": true
   },
   "outputs": [],
   "source": [
    "from scipy import spatial\n",
    "\n",
    "# import plotting libraries\n",
    "import matplotlib\n",
    "import matplotlib.pyplot as plt\n",
    "from pandas.plotting import scatter_matrix\n",
    "%matplotlib inline \n",
    "\n",
    "import seaborn as sns\n",
    "sns.set(style=\"white\", color_codes=True)\n",
    "sns.set(font_scale=1)"
   ]
  },
  {
   "cell_type": "code",
   "execution_count": 24,
   "metadata": {
    "collapsed": true
   },
   "outputs": [],
   "source": [
    "x, y = np.mgrid[0:5, 2:8]"
   ]
  },
  {
   "cell_type": "code",
   "execution_count": 25,
   "metadata": {},
   "outputs": [
    {
     "data": {
      "text/plain": [
       "array([[0, 0, 0, 0, 0, 0],\n",
       "       [1, 1, 1, 1, 1, 1],\n",
       "       [2, 2, 2, 2, 2, 2],\n",
       "       [3, 3, 3, 3, 3, 3],\n",
       "       [4, 4, 4, 4, 4, 4]])"
      ]
     },
     "execution_count": 25,
     "metadata": {},
     "output_type": "execute_result"
    }
   ],
   "source": [
    "x"
   ]
  },
  {
   "cell_type": "code",
   "execution_count": 26,
   "metadata": {},
   "outputs": [
    {
     "data": {
      "text/plain": [
       "array([[2, 3, 4, 5, 6, 7],\n",
       "       [2, 3, 4, 5, 6, 7],\n",
       "       [2, 3, 4, 5, 6, 7],\n",
       "       [2, 3, 4, 5, 6, 7],\n",
       "       [2, 3, 4, 5, 6, 7]])"
      ]
     },
     "execution_count": 26,
     "metadata": {},
     "output_type": "execute_result"
    }
   ],
   "source": [
    "y"
   ]
  },
  {
   "cell_type": "code",
   "execution_count": 32,
   "metadata": {},
   "outputs": [
    {
     "data": {
      "text/plain": [
       "<zip at 0x211dd00a808>"
      ]
     },
     "execution_count": 32,
     "metadata": {},
     "output_type": "execute_result"
    }
   ],
   "source": [
    "zip(x.ravel(), y.ravel())"
   ]
  },
  {
   "cell_type": "code",
   "execution_count": 33,
   "metadata": {},
   "outputs": [
    {
     "data": {
      "text/plain": [
       "[(0, 2),\n",
       " (0, 3),\n",
       " (0, 4),\n",
       " (0, 5),\n",
       " (0, 6),\n",
       " (0, 7),\n",
       " (1, 2),\n",
       " (1, 3),\n",
       " (1, 4),\n",
       " (1, 5),\n",
       " (1, 6),\n",
       " (1, 7),\n",
       " (2, 2),\n",
       " (2, 3),\n",
       " (2, 4),\n",
       " (2, 5),\n",
       " (2, 6),\n",
       " (2, 7),\n",
       " (3, 2),\n",
       " (3, 3),\n",
       " (3, 4),\n",
       " (3, 5),\n",
       " (3, 6),\n",
       " (3, 7),\n",
       " (4, 2),\n",
       " (4, 3),\n",
       " (4, 4),\n",
       " (4, 5),\n",
       " (4, 6),\n",
       " (4, 7)]"
      ]
     },
     "execution_count": 33,
     "metadata": {},
     "output_type": "execute_result"
    }
   ],
   "source": [
    "list(zip(x.ravel(), y.ravel()))"
   ]
  },
  {
   "cell_type": "code",
   "execution_count": 30,
   "metadata": {},
   "outputs": [
    {
     "name": "stdout",
     "output_type": "stream",
     "text": [
      "(0, 2)\n",
      "(0, 3)\n",
      "(0, 4)\n",
      "(0, 5)\n",
      "(0, 6)\n",
      "(0, 7)\n",
      "(1, 2)\n",
      "(1, 3)\n",
      "(1, 4)\n",
      "(1, 5)\n",
      "(1, 6)\n",
      "(1, 7)\n",
      "(2, 2)\n",
      "(2, 3)\n",
      "(2, 4)\n",
      "(2, 5)\n",
      "(2, 6)\n",
      "(2, 7)\n",
      "(3, 2)\n",
      "(3, 3)\n",
      "(3, 4)\n",
      "(3, 5)\n",
      "(3, 6)\n",
      "(3, 7)\n",
      "(4, 2)\n",
      "(4, 3)\n",
      "(4, 4)\n",
      "(4, 5)\n",
      "(4, 6)\n",
      "(4, 7)\n"
     ]
    }
   ],
   "source": [
    "for each in zip(x.ravel(), y.ravel()):\n",
    "    print(each)"
   ]
  },
  {
   "cell_type": "markdown",
   "metadata": {},
   "source": [
    "KDTree.query(x, k=1, eps=0, p=2, distance_upper_bound=inf)\n",
    "\n",
    "__Parameters:__\t\n",
    "- x : array_like, An array of points to query.\n",
    "- k : integer, The number of nearest neighbors to return.\n",
    "- p : float, 1<=p<=infinity\n",
    "\n",
    "Which Minkowski p-norm to use. \n",
    "> - 1 is the sum-of-absolute-values “Manhattan” distance \n",
    "> - 2 is the usual Euclidean distance \n",
    "\n",
    "\n",
    "- distance_upper_bound : nonnegative float\n",
    "\n",
    "Return only neighbors within this distance. This is used to prune tree searches, so if you are doing a series of nearest-neighbor queries, it may help to supply the distance to the nearest neighbor of the most recent point."
   ]
  },
  {
   "cell_type": "code",
   "execution_count": 39,
   "metadata": {
    "collapsed": true
   },
   "outputs": [],
   "source": [
    "tree = spatial.KDTree(data=list(zip(x.ravel(), y.ravel())), leafsize=3)"
   ]
  },
  {
   "cell_type": "code",
   "execution_count": 40,
   "metadata": {
    "collapsed": true
   },
   "outputs": [],
   "source": [
    "test_pts = np.array([[0, 0], [2.1, 2.9]])"
   ]
  },
  {
   "cell_type": "code",
   "execution_count": 45,
   "metadata": {},
   "outputs": [
    {
     "data": {
      "text/plain": [
       "(array([[2.        , 2.23606798, 2.82842712],\n",
       "        [0.14142136, 0.90553851, 0.90553851]]), array([[ 0,  6, 12],\n",
       "        [13, 12, 19]]))"
      ]
     },
     "execution_count": 45,
     "metadata": {},
     "output_type": "execute_result"
    }
   ],
   "source": [
    "# query the tree\n",
    "n_neighbors = 3\n",
    "tree.query(test_pts, k=n_neighbors)"
   ]
  },
  {
   "cell_type": "code",
   "execution_count": 47,
   "metadata": {},
   "outputs": [
    {
     "data": {
      "text/plain": [
       "<matplotlib.collections.PathCollection at 0x211dd325e10>"
      ]
     },
     "execution_count": 47,
     "metadata": {},
     "output_type": "execute_result"
    },
    {
     "data": {
      "image/png": "[encoded data removed]",
      "text/plain": [
       "<matplotlib.figure.Figure at 0x211dd21bf98>"
      ]
     },
     "metadata": {},
     "output_type": "display_data"
    }
   ],
   "source": [
    "plt.scatter(x, y)"
   ]
  },
  {
   "cell_type": "code",
   "execution_count": 55,
   "metadata": {},
   "outputs": [
    {
     "name": "stdout",
     "output_type": "stream",
     "text": [
      "x: Mean :  2.0 Variance :  2.0 Median :  2.0\n"
     ]
    }
   ],
   "source": [
    "print('x: Mean : ', np.mean(x), 'Variance : ', np.var(x), 'Median : ', np.median(x))"
   ]
  },
  {
   "cell_type": "code",
   "execution_count": 56,
   "metadata": {},
   "outputs": [
    {
     "name": "stdout",
     "output_type": "stream",
     "text": [
      "y: Mean :  4.5 Variance :  2.9166666666666665 Median :  4.5\n"
     ]
    }
   ],
   "source": [
    "print('y: Mean : ', np.mean(y), 'Variance : ', np.var(y), 'Median : ', np.median(y))"
   ]
  },
  {
   "cell_type": "code",
   "execution_count": 59,
   "metadata": {},
   "outputs": [
    {
     "data": {
      "text/plain": [
       "<matplotlib.collections.PathCollection at 0x211dd3accf8>"
      ]
     },
     "execution_count": 59,
     "metadata": {},
     "output_type": "execute_result"
    },
    {
     "data": {
      "image/png": "[encoded data removed]",
      "text/plain": [
       "<matplotlib.figure.Figure at 0x211dd3acb00>"
      ]
     },
     "metadata": {},
     "output_type": "display_data"
    }
   ],
   "source": [
    "plt.axhline(y=4.5, color='r', linestyle='-')\n",
    "plt.scatter(x, y)"
   ]
  },
  {
   "cell_type": "code",
   "execution_count": null,
   "metadata": {
    "collapsed": true
   },
   "outputs": [],
   "source": []
  }
 ],
 "metadata": {
  "kernelspec": {
   "display_name": "Python 3",
   "language": "python",
   "name": "python3"
  },
  "language_info": {
   "codemirror_mode": {
    "name": "ipython",
    "version": 3
   },
   "file_extension": ".py",
   "mimetype": "text/x-python",
   "name": "python",
   "nbconvert_exporter": "python",
   "pygments_lexer": "ipython3",
   "version": "3.6.3"
  }
 },
 "nbformat": 4,
 "nbformat_minor": 2
}
